{
 "cells": [
  {
   "cell_type": "raw",
   "id": "a50b4da2-1da2-465d-ab74-20fdee040b65",
   "metadata": {},
   "source": [
    "QUESTION:-1\n",
    "Who developed Python programming Language?"
   ]
  },
  {
   "cell_type": "raw",
   "id": "059f7784-eb94-442d-9eb9-2872bfdbda1d",
   "metadata": {},
   "source": [
    "ANSWER:-\n",
    "Python was developed by Guido van Rossum."
   ]
  },
  {
   "cell_type": "raw",
   "id": "8964b172-8839-4f74-b62c-29f5319e0db6",
   "metadata": {},
   "source": [
    "QUESTION:-2\n",
    "Which type of programming dose Python support?"
   ]
  },
  {
   "cell_type": "raw",
   "id": "ec757b8a-33de-4a45-8972-facabc6cbcea",
   "metadata": {},
   "source": [
    "ANSWER:-\n",
    "\n",
    "Python is a versatile programming language that supports multiple programming paradigms, including:\n",
    "\n",
    "Object-Oriented Programming (OOP): Python supports classes and objects, encapsulation, inheritance, and polymorphism.\n",
    "Procedural Programming: Python allows you to write procedures or functions that operate on data.\n",
    "Functional Programming: Python includes features like higher-order functions, lambda functions, and comprehensions that facilitate a functional programming style.\n",
    "Imperative Programming: Python supports a step-by-step approach to executing instructions, where commands change a program's state.\n",
    "Scripting: Python can be used for writing small programs or scripts to automate tasks."
   ]
  },
  {
   "cell_type": "raw",
   "id": "48540f8d-2e42-4224-910f-8b39c05e31c0",
   "metadata": {},
   "source": [
    "QUESTION:-3\n",
    "Is Python case senstive when dealing with identifiers?"
   ]
  },
  {
   "cell_type": "raw",
   "id": "3b552b5a-aac9-4b93-b76b-f4a7a5324650",
   "metadata": {},
   "source": [
    "ANSWER:-\n",
    "\n",
    "Yes, Python is case sensitive when dealing with identifiers. This means that variable names, function names, class names, and other identifiers must be used consistently with regard to their capitalization. For example, Variable, variable, and VARIABLE would be considered three different identifiers in Python."
   ]
  },
  {
   "cell_type": "code",
   "execution_count": 1,
   "id": "094bb0d0-0406-4c43-869e-2838fc833c0f",
   "metadata": {},
   "outputs": [
    {
     "name": "stdout",
     "output_type": "stream",
     "text": [
      "5\n",
      "10\n",
      "15\n"
     ]
    }
   ],
   "source": [
    "variable = 5\n",
    "Variable = 10\n",
    "VARIABLE = 15\n",
    "\n",
    "print(variable)\n",
    "print(Variable)\n",
    "print(VARIABLE)"
   ]
  },
  {
   "cell_type": "raw",
   "id": "13317c30-0ecf-4452-8dc1-482952596dbe",
   "metadata": {},
   "source": [
    "QUESTION:-4\n",
    "What is the correct extension of the Python file."
   ]
  },
  {
   "cell_type": "raw",
   "id": "1eac9a88-0c67-427e-ae0c-7c1eae9d3004",
   "metadata": {},
   "source": [
    "ANSWER:-\n",
    "The correct extension for a Python file is .py"
   ]
  },
  {
   "cell_type": "raw",
   "id": "c8927a91-df73-4904-b10f-ec850e3c6fba",
   "metadata": {},
   "source": [
    "QUESTION:-5\n",
    "Is Python code is compiled or Interpreted?"
   ]
  },
  {
   "cell_type": "raw",
   "id": "4fdebebd-c663-4488-a801-2bbb2cd1f981",
   "metadata": {},
   "source": [
    "ANSWER:-\n",
    "\n",
    "Python is generally considered an interpreted language. This means that Python code is executed by an interpreter at runtime, rather than being compiled into machine code ahead of time.\n",
    "\n",
    "However, the reality is a bit more nuanced:\n",
    "\n",
    "Bytecode Compilation: When you run hon program, the Python interpreter first compiles the source code (.py files) into bytecode. This bytecode is a lower-level, platform-independent representation of the source code. The bytecode files are often stored with a .pyc extension in a __pycache__ directory.\n",
    "\n",
    "Execution by the Interpreter: The Python interpreter then executes this bytecode. The interpreter reads the bytecode and performs the corresponding operations on the host machine."
   ]
  },
  {
   "cell_type": "raw",
   "id": "6cf73f30-36d5-40d5-a2ed-22eada3dbe84",
   "metadata": {},
   "source": [
    "QUESTION:-6\n",
    "Name a few block of code used to define in Python language?"
   ]
  },
  {
   "cell_type": "raw",
   "id": "e1144a81-ffbd-4fd9-9206-5dc68c20e4ec",
   "metadata": {},
   "source": [
    "ANSWER:-\n",
    "\n",
    "In Python, blocks of code are used to define various constructs such as functions, classes, conditionals, loops, and exception handling. Here are a few examples:\n",
    "1.Functions:\n",
    "2. Classes\n",
    "3. Conditionals(if,elif,else)\n",
    "4. Loops(for,while)\n",
    "5. Exception Handling"
   ]
  },
  {
   "cell_type": "raw",
   "id": "e61bf5df-d7c9-43da-92a4-4b11d0cd5442",
   "metadata": {},
   "source": [
    "QUESTION:-7\n",
    "State a character used to give single-line comments in python?"
   ]
  },
  {
   "cell_type": "raw",
   "id": "63ad8c1f-5c17-41ba-bbc6-6afad55e32aa",
   "metadata": {},
   "source": [
    "ANSWER:-\n",
    "In Python, the character used to give single-line comments is the hash symbol (#). Here is an example:"
   ]
  },
  {
   "cell_type": "code",
   "execution_count": 2,
   "id": "acc9dc46-ec83-41fb-b8e7-0ae99afb2540",
   "metadata": {},
   "outputs": [
    {
     "name": "stdout",
     "output_type": "stream",
     "text": [
      "Hello, World!\n"
     ]
    }
   ],
   "source": [
    "# This is a single-line comment in Python\n",
    "print(\"Hello, World!\")  # This is an inline comment"
   ]
  },
  {
   "cell_type": "raw",
   "id": "63f3a86c-fbab-481f-ae30-7aa9dd98cdea",
   "metadata": {},
   "source": [
    "QUESTION:-8\n",
    "Mention the functions which can help us to find the version of python that we are currently working on?"
   ]
  },
  {
   "cell_type": "raw",
   "id": "a6e2d62f-2e72-43d4-839f-b2ad0997e69e",
   "metadata": {},
   "source": [
    "ANSWER:-\n",
    "To find the version of Python that you are currently working on, you can use the following functions:"
   ]
  },
  {
   "cell_type": "code",
   "execution_count": 3,
   "id": "528c2c7b-a653-4638-b381-74418a03831f",
   "metadata": {},
   "outputs": [
    {
     "name": "stdout",
     "output_type": "stream",
     "text": [
      "3.10.8 | packaged by conda-forge | (main, Nov 22 2022, 08:26:04) [GCC 10.4.0]\n",
      "sys.version_info(major=3, minor=10, micro=8, releaselevel='final', serial=0)\n"
     ]
    }
   ],
   "source": [
    "#sys.version and sys.version_info from the sys module:\n",
    "import sys\n",
    "print(sys.version)       # Returns a string with the version number and additional information\n",
    "print(sys.version_info)  # Returns a tuple with the version number components"
   ]
  },
  {
   "cell_type": "raw",
   "id": "7451ab39-3d43-4737-a76a-0df338e3ddff",
   "metadata": {},
   "source": [
    "QUESTION:-9\n",
    "Python support the creation of anonymous function at runtime, using a construct called ____________."
   ]
  },
  {
   "cell_type": "raw",
   "id": "3685e2d9-9a73-4483-8c16-31c0959061b6",
   "metadata": {},
   "source": [
    "ANSWER:-\n",
    "lambda Function"
   ]
  },
  {
   "cell_type": "raw",
   "id": "3e3ee701-9cf9-4ef0-b226-d5814560d51b",
   "metadata": {},
   "source": [
    "QUESTION:-10\n",
    "What dose pip stand for python?"
   ]
  },
  {
   "cell_type": "raw",
   "id": "82a3de2e-5d9d-447e-a087-e05f591650b4",
   "metadata": {},
   "source": [
    "ANSWER:-\n",
    "In Python, \"pip\" stands for \"Pip Installs Packages.\" It is the package installer for Python, and it allows you to install and manage additional libraries and dependencies that are not included in the standard Python library. You can use pip to install packages from the Python Package Index (PyPI) and other repositories."
   ]
  },
  {
   "cell_type": "raw",
   "id": "712c2d9e-c4a2-471f-a332-83d528a1214a",
   "metadata": {},
   "source": [
    "QUESTION:-11\n",
    "Mention a few build-in functions of python? "
   ]
  },
  {
   "cell_type": "raw",
   "id": "32cf376b-edb2-4019-97d8-472ebb907e00",
   "metadata": {},
   "source": [
    "ANSWER:-\n",
    "Python provides a rich set of built-in functions that are always available for use. Here are a few examples of commonly used built-in functions:\n",
    "\n",
    "1. print(): Prints the specified message to the console.\n",
    "\n",
    "2. len(): Returns the length of an object (such as a list, string, or tuple).\n",
    "\n",
    "3. type(): Returns the type of an object.\n",
    "\n",
    "4. int(): Converts a value to an integer.\n",
    "\n",
    "5. float(): Converts a value to a float.\n",
    "\n",
    "6. str(): Converts a value to a string.\n",
    "\n",
    "7. sum(): Returns the sum of all items in an iterable.\n",
    "\n",
    "8. max(): Returns the largest item in an iterable or the largest of two or more arguments.\n",
    "\n",
    "9. min(): Returns the smallest item in an iterable or the smallest of two or more arguments.\n",
    "\n",
    "10. abs(): Returns the absolute value of a number.\n",
    "\n",
    "11. round(): Rounds a floating-point number to a specified number of decimal places.\n",
    "\n",
    "12. input(): Reads a line of input from the user."
   ]
  },
  {
   "cell_type": "raw",
   "id": "3792b9bf-fba9-4d72-930e-d9253314729d",
   "metadata": {},
   "source": [
    "QUESTION:-12\n",
    "What is the maximum possible length of an identifier in python?"
   ]
  },
  {
   "cell_type": "raw",
   "id": "45171d33-2ab6-4e76-8293-249a6c5b0d7a",
   "metadata": {},
   "source": [
    "ANSWER:-\n",
    "In Python, there is no explicit limit on the maximum length of an identifier. The length is only constrained by the available memory of the system and practicality. However, extremely long identifiers can make the code difficult to read and maintain, so it is generally a good practice to keep identifiers reasonably short and meaningful."
   ]
  },
  {
   "cell_type": "raw",
   "id": "679d459e-afb3-4e44-9614-3a6941c16aa0",
   "metadata": {},
   "source": [
    "QUESTION:-13\n",
    "What are the benefits of using python?"
   ]
  },
  {
   "cell_type": "raw",
   "id": "5abe099c-452a-4cc6-9bcd-063488617be4",
   "metadata": {},
   "source": [
    "ANSWER:-\n",
    "Python offers a wide range of benefits that make it a popular choice among developers for various applications. Here are some key benefits of using Python:\n",
    "\n",
    "Readability and Simplicity:\n",
    "\n",
    "Python's syntax is clear and concise, making it easy to read and write.\n",
    "The language design emphasizes code readability, which reduces the cost of program maintenance.\n",
    "Versatile and Powerful:\n",
    "\n",
    "Python is a general-purpose language that can be used for web development, data analysis, machine learning, artificial intelligence, scientific computing, automation, and more.\n",
    "It has a rich standard library and a vast ecosystem of third-party packages and frameworks.\n",
    "Cross-Platform Compatibility:\n",
    "\n",
    "Python is available on multiple platforms (Windows, macOS, Linux), making it easy to develop cross-platform applications.\n",
    "Extensive Libraries and Frameworks:\n",
    "\n",
    "Python has a comprehensive standard library and a large collection of external libraries for various tasks, such as NumPy and pandas for data analysis, Django and Flask for web development, TensorFlow and PyTorch for machine learning, and many others.\n",
    "Community Support:\n",
    "\n",
    "Python has a large, active, and supportive community. There are numerous resources, including documentation, tutorials, and forums, that can help developers at all levels.\n",
    "Integration Capabilities:\n",
    "\n",
    "Python can easily integrate with other languages and technologies. It can be used to call C/C++ code, work with Java via Jython, and interact with .NET languages through IronPython.\n",
    "It also supports various data formats and databases.\n",
    "Rapid Development and Prototyping:\n",
    "\n",
    "Python's simple syntax and dynamic typing make it ideal for rapid development and prototyping. This can accelerate the time-to-market for products and allow for quick iteration on ideas.\n",
    "Automation and Scripting:\n",
    "\n",
    "Python is an excellent choice for writing scripts to automate repetitive tasks, improving efficiency and productivity.\n",
    "Educational Use:\n",
    "\n",
    "Python is often used as a teaching language due to its simplicity and readability. It is a great language for beginners to learn programming concepts.\n",
    "Strong Support for Data Science and Machine Learning:\n",
    "\n",
    "Python has become the language of choice for data scientists and machine learning practitioners, thanks to powerful libraries like scikit-learn, TensorFlow, Keras, and PyTorch."
   ]
  },
  {
   "cell_type": "raw",
   "id": "ecd32537-e94e-459e-8612-50338a99af4c",
   "metadata": {},
   "source": [
    "QUESTION:-14\n",
    "How is memory managed in python?"
   ]
  },
  {
   "cell_type": "raw",
   "id": "c18c9f6d-25ff-475b-9ef0-25be4c4c9124",
   "metadata": {},
   "source": [
    "ANSWER:-\n",
    "Memory management in Python is handled automatically by the Python memory manager. Here are some key aspects of how memory is managed in Python:\n",
    "\n",
    "Automatic Garbage Collection:\n",
    "\n",
    "Python uses automatic garbage collection to manage memory. The garbage collector frees up memory by removing objects that are no longer in use.\n",
    "The primary mechanism for garbage collection in Python is reference counting. Each object keeps track of the number of references to it. When the reference count drops to zero, the memory occupied by the object is reclaimed.\n",
    "Reference Counting:\n",
    "\n",
    "Every object in Python has a reference count that tracks how many references point to it.\n",
    "When an object's reference count becomes zero, the memory occupied by the object is deallocated.\n",
    "Circular references can cause problems with reference counting alone, which is why Python also employs a cyclic garbage collector.\n",
    "Cyclic Garbage Collector:\n",
    "\n",
    "Python's garbage collector can detect and clean up cyclic references (where two or more objects reference each other but are not referenced by any other objects).\n",
    "The garbage collector periodically looks for groups of objects that reference each other and are unreachable from the program's root objects.\n",
    "Memory Pools and Arenas:\n",
    "\n",
    "Python uses a system of memory pools and arenas to manage small objects. Small objects are allocated from a pool of pre-allocated memory blocks, which helps to reduce fragmentation and improve performance.\n",
    "Larger objects are managed using the underlying operating system's memory allocation mechanisms.\n",
    "Dynamic Typing and Memory Overhead:\n",
    "\n",
    "Python is dynamically typed, which means each variable can hold objects of any type. This dynamic typing incurs some memory overhead because type information must be stored along with each object.\n",
    "Despite this overhead, the flexibility provided by dynamic typing is one of Python's strengths."
   ]
  },
  {
   "cell_type": "markdown",
   "id": "0d001081-97ae-4e1f-bb82-bd01608f20cb",
   "metadata": {},
   "source": [
    "QUESTION 15:-\n",
    "How to install python on Windows and set path variables?"
   ]
  },
  {
   "cell_type": "raw",
   "id": "59c80f42-d91b-410b-acbe-8825ed202e76",
   "metadata": {},
   "source": [
    "ANSWER:-\n",
    "To install Python on Windows and set the path variables, follow these steps:\n",
    "\n",
    "1. Download Python Installer\n",
    "Visit the official Python website: python.org.\n",
    "Navigate to the Downloads section and select \"Download Python\" for Windows. This will download the latest version of Python.\n",
    "2. Run the Python Installer\n",
    "Once the installer is downloaded, run the executable file.\n",
    "In the Python Setup window, make sure to check the box that says \"Add Python to PATH\". This will automatically set the PATH variable.\n",
    "Click on \"Install Now\" or choose \"Customize Installation\" if you want to select specific options or change the installation directory.\n",
    "3. Verify the Installation\n",
    "Open a new Command Prompt window (press Win + R, type cmd, and hit Enter).\n",
    "Type python --version and press Enter. This should display the version of Python that you installed.\n",
    "Type pip --version to verify that the package installer (pip) is also installed.\n",
    "4. Setting PATH Manually (If Needed)\n",
    "If you did not check the \"Add Python to PATH\" box during installation, you can set the PATH manually:\n",
    "\n",
    "Find the Python Installation Path:\n",
    "\n",
    "By default, Python is installed in C:\\Users\\<YourUsername>\\AppData\\Local\\Programs\\Python\\Python<version>\\ or C:\\Python<version>\\.\n",
    "Add Python to the PATH Environment Variable:\n",
    "\n",
    "Right-click on the Start menu and select System.\n",
    "Click on Advanced system settings.\n",
    "In the System Properties window, click on the Environment Variables button.\n",
    "In the Environment Variables window, find the Path variable in the System variables section and select it. Click Edit.\n",
    "In the Edit Environment Variable window, click New and add the path to the Python executable (e.g., C:\\Users\\<YourUsername>\\AppData\\Local\\Programs\\Python\\Python<version>\\).\n",
    "Also, add the path to the Scripts directory (e.g., C:\\Users\\<YourUsername>\\AppData\\Local\\Programs\\Python\\Python<version>\\Scripts\\).\n",
    "Verify the PATH Update:\n",
    "\n",
    "Open a new Command Prompt window and type python --version and pip --version again to verify that both commands are recognized."
   ]
  },
  {
   "cell_type": "markdown",
   "id": "0089b132-a906-461c-b65a-32e401a0499c",
   "metadata": {},
   "source": [
    "QUESTION 16:-\n",
    "Is indentation is required in python?"
   ]
  },
  {
   "cell_type": "raw",
   "id": "11a507ff-23ef-407b-925b-31258abb28f8",
   "metadata": {},
   "source": [
    "ANSWER:-\n",
    "Yes, indentation is required in Python. Unlike many other programming languages that use curly braces {} to define blocks of code, Python uses indentation to denote blocks of code. Proper indentation is crucial for defining the structure and flow of the program, such as in loops, conditionals, functions, and class definitions."
   ]
  },
  {
   "cell_type": "code",
   "execution_count": null,
   "id": "2659d259-2fa6-4cfb-8762-f0e7e3dc4561",
   "metadata": {},
   "outputs": [],
   "source": []
  }
 ],
 "metadata": {
  "kernelspec": {
   "display_name": "Python 3 (ipykernel)",
   "language": "python",
   "name": "python3"
  },
  "language_info": {
   "codemirror_mode": {
    "name": "ipython",
    "version": 3
   },
   "file_extension": ".py",
   "mimetype": "text/x-python",
   "name": "python",
   "nbconvert_exporter": "python",
   "pygments_lexer": "ipython3",
   "version": "3.10.8"
  }
 },
 "nbformat": 4,
 "nbformat_minor": 5
}
